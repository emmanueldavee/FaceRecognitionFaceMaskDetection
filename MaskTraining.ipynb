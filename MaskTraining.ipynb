{
 "cells": [
  {
   "cell_type": "markdown",
   "metadata": {},
   "source": [
    "### Import Libraries"
   ]
  },
  {
   "cell_type": "code",
   "execution_count": 2,
   "metadata": {},
   "outputs": [],
   "source": [
    "import os\n",
    "import cv2\n",
    "import numpy as np\n",
    "import matplotlib.pyplot as plt\n",
    "import pandas as pd\n",
    "\n",
    "from sklearn.model_selection import train_test_split\n",
    "from tensorflow.keras.preprocessing.image import ImageDataGenerator\n",
    "from tensorflow.keras.applications import MobileNetV2\n",
    "from tensorflow.keras.layers import AveragePooling2D\n",
    "from tensorflow.keras.layers import Dropout\n",
    "from tensorflow.keras.layers import Flatten\n",
    "from tensorflow.keras.layers import Dense\n",
    "from tensorflow.keras.layers import Input\n",
    "from tensorflow.keras.models import Model, load_model\n",
    "from tensorflow.keras.optimizers import Adam\n",
    "from tensorflow.keras.applications.mobilenet_v2 import preprocess_input\n",
    "from tensorflow.keras.preprocessing.image import img_to_array, load_img\n",
    "from tensorflow.keras.utils import to_categorical\n",
    "from sklearn.preprocessing import LabelBinarizer\n",
    "\n",
    "from sklearn.metrics import classification_report"
   ]
  },
  {
   "cell_type": "code",
   "execution_count": 3,
   "metadata": {},
   "outputs": [],
   "source": [
    "dirs = ['with_mask', 'without_mask']"
   ]
  },
  {
   "cell_type": "markdown",
   "metadata": {},
   "source": [
    "### Load images from the 2 classes and also its corresponding labels"
   ]
  },
  {
   "cell_type": "code",
   "execution_count": 4,
   "metadata": {},
   "outputs": [
    {
     "name": "stderr",
     "output_type": "stream",
     "text": [
      "C:\\Users\\DAVE\\Anaconda3\\envs\\ComputerVision\\lib\\site-packages\\PIL\\Image.py:961: UserWarning: Palette images with Transparency expressed in bytes should be converted to RGBA images\n",
      "  \"Palette images with Transparency expressed in bytes should be \"\n"
     ]
    }
   ],
   "source": [
    "data = []\n",
    "labels = []\n",
    "\n",
    "for dir in dirs:\n",
    "    path = os.path.join('mask_data', dir)\n",
    "    \n",
    "    # Iterate over all images in each class\n",
    "    for img in os.listdir(path):\n",
    "        img_path = os.path.join(path, img)\n",
    "        \n",
    "        # load and resize image\n",
    "        image = load_img(img_path, target_size=(224, 224))\n",
    "        \n",
    "        # convert image into array\n",
    "        image = img_to_array(image)\n",
    "        \n",
    "        # Preprocess image to meet the format of the model (MobileNet)\n",
    "        image = preprocess_input(image)\n",
    "        \n",
    "        # Store image and label into a list\n",
    "        data.append(image)\n",
    "        labels.append(dir)"
   ]
  },
  {
   "cell_type": "markdown",
   "metadata": {},
   "source": [
    "### Visualize the distribution of the data"
   ]
  },
  {
   "cell_type": "code",
   "execution_count": 5,
   "metadata": {},
   "outputs": [
    {
     "data": {
      "image/png": "[encoded data removed]",
      "text/plain": [
       "<Figure size 432x288 with 1 Axes>"
      ]
     },
     "metadata": {
      "needs_background": "light"
     },
     "output_type": "display_data"
    }
   ],
   "source": [
    "x = pd.Series(labels).value_counts()\n",
    "\n",
    "plt.bar(x.index, x)\n",
    "plt.title('Mask Dataset Size')\n",
    "plt.xlabel('Class')\n",
    "plt.ylabel('Number of Images')\n",
    "plt.show()"
   ]
  },
  {
   "cell_type": "markdown",
   "metadata": {},
   "source": [
    "### Encode the labels"
   ]
  },
  {
   "cell_type": "code",
   "execution_count": 6,
   "metadata": {},
   "outputs": [],
   "source": [
    "# Transforming labels into categorical values\n",
    "lb = LabelBinarizer()\n",
    "labels = lb.fit_transform(labels)\n",
    "labels = to_categorical(labels)"
   ]
  },
  {
   "cell_type": "markdown",
   "metadata": {},
   "source": [
    "### Convert data and labels from list to a numpy array"
   ]
  },
  {
   "cell_type": "code",
   "execution_count": 7,
   "metadata": {},
   "outputs": [],
   "source": [
    "data = np.array(data, dtype=\"float32\")\n",
    "labels = np.array(labels)"
   ]
  },
  {
   "cell_type": "markdown",
   "metadata": {},
   "source": [
    "### Split dataset into 80% Training and 20% Testing"
   ]
  },
  {
   "cell_type": "code",
   "execution_count": 8,
   "metadata": {},
   "outputs": [],
   "source": [
    "x_train, x_test, y_train, y_test = train_test_split(data, labels, test_size=0.2, stratify=labels, random_state=40)"
   ]
  },
  {
   "cell_type": "markdown",
   "metadata": {},
   "source": [
    "### Define Hyperparameters"
   ]
  },
  {
   "cell_type": "code",
   "execution_count": 9,
   "metadata": {},
   "outputs": [],
   "source": [
    "lr = 1e-4\n",
    "epochs = 20\n",
    "batch_size = 32"
   ]
  },
  {
   "cell_type": "markdown",
   "metadata": {},
   "source": [
    "### Create the Image Data Generator for Data Augmentation"
   ]
  },
  {
   "cell_type": "code",
   "execution_count": 10,
   "metadata": {},
   "outputs": [],
   "source": [
    "aug = ImageDataGenerator(\n",
    "    rotation_range=20,\n",
    "    zoom_range=0.15,\n",
    "    width_shift_range=0.2,\n",
    "    height_shift_range=0.2,\n",
    "    shear_range=0.15,\n",
    "    horizontal_flip=True,\n",
    "    fill_mode=\"nearest\"\n",
    ")"
   ]
  },
  {
   "cell_type": "markdown",
   "metadata": {},
   "source": [
    "### Build the base model (MobileNet)"
   ]
  },
  {
   "cell_type": "code",
   "execution_count": 11,
   "metadata": {},
   "outputs": [
    {
     "name": "stdout",
     "output_type": "stream",
     "text": [
      "WARNING:tensorflow:`input_shape` is undefined or non-square, or `rows` is not in [96, 128, 160, 192, 224]. Weights for input shape (224, 224) will be loaded as the default.\n"
     ]
    }
   ],
   "source": [
    "baseModel = MobileNetV2(weights=\"imagenet\", include_top=False, input_tensor=Input(shape=(224, 224, 3)))"
   ]
  },
  {
   "cell_type": "markdown",
   "metadata": {},
   "source": [
    "### Build the head model"
   ]
  },
  {
   "cell_type": "code",
   "execution_count": 12,
   "metadata": {},
   "outputs": [],
   "source": [
    "headModel = baseModel.output\n",
    "headModel = AveragePooling2D(pool_size=(7,7))(headModel)\n",
    "headModel = Flatten(name=\"flatten\")(headModel)\n",
    "headModel = Dense(128, activation=\"relu\")(headModel)\n",
    "headModel = Dropout(0.5)(headModel)\n",
    "headModel = Dense(2, activation=\"softmax\")(headModel)\n",
    "\n",
    "# Connect the head model and the base model\n",
    "model = Model(inputs=baseModel.input, outputs=headModel)"
   ]
  },
  {
   "cell_type": "markdown",
   "metadata": {},
   "source": [
    "### Freeze layers in the base model"
   ]
  },
  {
   "cell_type": "code",
   "execution_count": 13,
   "metadata": {},
   "outputs": [],
   "source": [
    "for layer in baseModel.layers:\n",
    "    layer.trainable = False"
   ]
  },
  {
   "cell_type": "markdown",
   "metadata": {},
   "source": [
    "### Create the optimizer"
   ]
  },
  {
   "cell_type": "code",
   "execution_count": 14,
   "metadata": {},
   "outputs": [],
   "source": [
    "opt = Adam(lr=lr, decay=lr/epochs)"
   ]
  },
  {
   "cell_type": "markdown",
   "metadata": {},
   "source": [
    "### Compile the Model"
   ]
  },
  {
   "cell_type": "code",
   "execution_count": 15,
   "metadata": {},
   "outputs": [],
   "source": [
    "model.compile(loss=\"binary_crossentropy\", optimizer=opt, metrics=['accuracy'])"
   ]
  },
  {
   "cell_type": "markdown",
   "metadata": {},
   "source": [
    "### Fitting the training dataset into the constructed model"
   ]
  },
  {
   "cell_type": "code",
   "execution_count": 16,
   "metadata": {},
   "outputs": [
    {
     "name": "stdout",
     "output_type": "stream",
     "text": [
      "Epoch 1/20\n",
      "188/188 [==============================] - ETA: 0s - loss: 0.2474 - accuracy: 0.8987WARNING:tensorflow:Your input ran out of data; interrupting training. Make sure that your dataset or generator can generate at least `steps_per_epoch * epochs` batches (in this case, 47 batches). You may need to use the repeat() function when building your dataset.\n",
      "188/188 [==============================] - 226s 1s/step - loss: 0.2474 - accuracy: 0.8987 - val_loss: 0.0578 - val_accuracy: 0.9835\n",
      "Epoch 2/20\n",
      "188/188 [==============================] - ETA: 0s - loss: 0.0791 - accuracy: 0.9744WARNING:tensorflow:Your input ran out of data; interrupting training. Make sure that your dataset or generator can generate at least `steps_per_epoch * epochs` batches (in this case, 47 batches). You may need to use the repeat() function when building your dataset.\n",
      "188/188 [==============================] - 271s 1s/step - loss: 0.0791 - accuracy: 0.9744 - val_loss: 0.0452 - val_accuracy: 0.9848\n",
      "Epoch 3/20\n",
      "188/188 [==============================] - ETA: 0s - loss: 0.0637 - accuracy: 0.9800WARNING:tensorflow:Your input ran out of data; interrupting training. Make sure that your dataset or generator can generate at least `steps_per_epoch * epochs` batches (in this case, 47 batches). You may need to use the repeat() function when building your dataset.\n",
      "188/188 [==============================] - 291s 2s/step - loss: 0.0637 - accuracy: 0.9800 - val_loss: 0.0394 - val_accuracy: 0.9848\n",
      "Epoch 4/20\n",
      "188/188 [==============================] - ETA: 0s - loss: 0.0552 - accuracy: 0.9809WARNING:tensorflow:Your input ran out of data; interrupting training. Make sure that your dataset or generator can generate at least `steps_per_epoch * epochs` batches (in this case, 47 batches). You may need to use the repeat() function when building your dataset.\n",
      "188/188 [==============================] - 286s 2s/step - loss: 0.0552 - accuracy: 0.9809 - val_loss: 0.0344 - val_accuracy: 0.9881\n",
      "Epoch 5/20\n",
      "188/188 [==============================] - ETA: 0s - loss: 0.0421 - accuracy: 0.9867WARNING:tensorflow:Your input ran out of data; interrupting training. Make sure that your dataset or generator can generate at least `steps_per_epoch * epochs` batches (in this case, 47 batches). You may need to use the repeat() function when building your dataset.\n",
      "188/188 [==============================] - 248s 1s/step - loss: 0.0421 - accuracy: 0.9867 - val_loss: 0.0398 - val_accuracy: 0.9861\n",
      "Epoch 6/20\n",
      "188/188 [==============================] - ETA: 0s - loss: 0.0389 - accuracy: 0.9857WARNING:tensorflow:Your input ran out of data; interrupting training. Make sure that your dataset or generator can generate at least `steps_per_epoch * epochs` batches (in this case, 47 batches). You may need to use the repeat() function when building your dataset.\n",
      "188/188 [==============================] - 249s 1s/step - loss: 0.0389 - accuracy: 0.9857 - val_loss: 0.0321 - val_accuracy: 0.9887\n",
      "Epoch 7/20\n",
      "188/188 [==============================] - ETA: 0s - loss: 0.0402 - accuracy: 0.9867WARNING:tensorflow:Your input ran out of data; interrupting training. Make sure that your dataset or generator can generate at least `steps_per_epoch * epochs` batches (in this case, 47 batches). You may need to use the repeat() function when building your dataset.\n",
      "188/188 [==============================] - 251s 1s/step - loss: 0.0402 - accuracy: 0.9867 - val_loss: 0.0327 - val_accuracy: 0.9887\n",
      "Epoch 8/20\n",
      "188/188 [==============================] - ETA: 0s - loss: 0.0377 - accuracy: 0.9879WARNING:tensorflow:Your input ran out of data; interrupting training. Make sure that your dataset or generator can generate at least `steps_per_epoch * epochs` batches (in this case, 47 batches). You may need to use the repeat() function when building your dataset.\n",
      "188/188 [==============================] - 299s 2s/step - loss: 0.0377 - accuracy: 0.9879 - val_loss: 0.0276 - val_accuracy: 0.9907\n",
      "Epoch 9/20\n",
      "188/188 [==============================] - ETA: 0s - loss: 0.0301 - accuracy: 0.9890WARNING:tensorflow:Your input ran out of data; interrupting training. Make sure that your dataset or generator can generate at least `steps_per_epoch * epochs` batches (in this case, 47 batches). You may need to use the repeat() function when building your dataset.\n",
      "188/188 [==============================] - 277s 1s/step - loss: 0.0301 - accuracy: 0.9890 - val_loss: 0.0295 - val_accuracy: 0.9914\n",
      "Epoch 10/20\n",
      "188/188 [==============================] - ETA: 0s - loss: 0.0363 - accuracy: 0.9884WARNING:tensorflow:Your input ran out of data; interrupting training. Make sure that your dataset or generator can generate at least `steps_per_epoch * epochs` batches (in this case, 47 batches). You may need to use the repeat() function when building your dataset.\n",
      "188/188 [==============================] - 245s 1s/step - loss: 0.0363 - accuracy: 0.9884 - val_loss: 0.0246 - val_accuracy: 0.9927\n",
      "Epoch 11/20\n",
      "188/188 [==============================] - ETA: 0s - loss: 0.0317 - accuracy: 0.9903WARNING:tensorflow:Your input ran out of data; interrupting training. Make sure that your dataset or generator can generate at least `steps_per_epoch * epochs` batches (in this case, 47 batches). You may need to use the repeat() function when building your dataset.\n",
      "188/188 [==============================] - 239s 1s/step - loss: 0.0317 - accuracy: 0.9903 - val_loss: 0.0304 - val_accuracy: 0.9894\n",
      "Epoch 12/20\n",
      "188/188 [==============================] - ETA: 0s - loss: 0.0328 - accuracy: 0.9885WARNING:tensorflow:Your input ran out of data; interrupting training. Make sure that your dataset or generator can generate at least `steps_per_epoch * epochs` batches (in this case, 47 batches). You may need to use the repeat() function when building your dataset.\n",
      "188/188 [==============================] - 232s 1s/step - loss: 0.0328 - accuracy: 0.9885 - val_loss: 0.0248 - val_accuracy: 0.9927\n",
      "Epoch 13/20\n",
      "188/188 [==============================] - ETA: 0s - loss: 0.0286 - accuracy: 0.9903WARNING:tensorflow:Your input ran out of data; interrupting training. Make sure that your dataset or generator can generate at least `steps_per_epoch * epochs` batches (in this case, 47 batches). You may need to use the repeat() function when building your dataset.\n",
      "188/188 [==============================] - 230s 1s/step - loss: 0.0286 - accuracy: 0.9903 - val_loss: 0.0253 - val_accuracy: 0.9921\n",
      "Epoch 14/20\n",
      "188/188 [==============================] - ETA: 0s - loss: 0.0296 - accuracy: 0.9890WARNING:tensorflow:Your input ran out of data; interrupting training. Make sure that your dataset or generator can generate at least `steps_per_epoch * epochs` batches (in this case, 47 batches). You may need to use the repeat() function when building your dataset.\n",
      "188/188 [==============================] - 237s 1s/step - loss: 0.0296 - accuracy: 0.9890 - val_loss: 0.0255 - val_accuracy: 0.9927\n",
      "Epoch 15/20\n",
      "188/188 [==============================] - ETA: 0s - loss: 0.0270 - accuracy: 0.9899WARNING:tensorflow:Your input ran out of data; interrupting training. Make sure that your dataset or generator can generate at least `steps_per_epoch * epochs` batches (in this case, 47 batches). You may need to use the repeat() function when building your dataset.\n",
      "188/188 [==============================] - 240s 1s/step - loss: 0.0270 - accuracy: 0.9899 - val_loss: 0.0263 - val_accuracy: 0.9914\n",
      "Epoch 16/20\n",
      "188/188 [==============================] - ETA: 0s - loss: 0.0269 - accuracy: 0.9900WARNING:tensorflow:Your input ran out of data; interrupting training. Make sure that your dataset or generator can generate at least `steps_per_epoch * epochs` batches (in this case, 47 batches). You may need to use the repeat() function when building your dataset.\n",
      "188/188 [==============================] - 234s 1s/step - loss: 0.0269 - accuracy: 0.9900 - val_loss: 0.0224 - val_accuracy: 0.9927\n",
      "Epoch 17/20\n",
      "188/188 [==============================] - ETA: 0s - loss: 0.0251 - accuracy: 0.9913WARNING:tensorflow:Your input ran out of data; interrupting training. Make sure that your dataset or generator can generate at least `steps_per_epoch * epochs` batches (in this case, 47 batches). You may need to use the repeat() function when building your dataset.\n"
     ]
    },
    {
     "name": "stdout",
     "output_type": "stream",
     "text": [
      "188/188 [==============================] - 242s 1s/step - loss: 0.0251 - accuracy: 0.9913 - val_loss: 0.0273 - val_accuracy: 0.9921\n",
      "Epoch 18/20\n",
      "188/188 [==============================] - ETA: 0s - loss: 0.0296 - accuracy: 0.9899WARNING:tensorflow:Your input ran out of data; interrupting training. Make sure that your dataset or generator can generate at least `steps_per_epoch * epochs` batches (in this case, 47 batches). You may need to use the repeat() function when building your dataset.\n",
      "188/188 [==============================] - 267s 1s/step - loss: 0.0296 - accuracy: 0.9899 - val_loss: 0.0330 - val_accuracy: 0.9894\n",
      "Epoch 19/20\n",
      "188/188 [==============================] - ETA: 0s - loss: 0.0209 - accuracy: 0.9935WARNING:tensorflow:Your input ran out of data; interrupting training. Make sure that your dataset or generator can generate at least `steps_per_epoch * epochs` batches (in this case, 47 batches). You may need to use the repeat() function when building your dataset.\n",
      "188/188 [==============================] - 251s 1s/step - loss: 0.0209 - accuracy: 0.9935 - val_loss: 0.0251 - val_accuracy: 0.9927\n",
      "Epoch 20/20\n",
      "188/188 [==============================] - ETA: 0s - loss: 0.0225 - accuracy: 0.9930WARNING:tensorflow:Your input ran out of data; interrupting training. Make sure that your dataset or generator can generate at least `steps_per_epoch * epochs` batches (in this case, 47 batches). You may need to use the repeat() function when building your dataset.\n",
      "188/188 [==============================] - 212s 1s/step - loss: 0.0225 - accuracy: 0.9930 - val_loss: 0.0267 - val_accuracy: 0.9927\n"
     ]
    }
   ],
   "source": [
    "H = model.fit(\n",
    "    aug.flow(x_train, y_train, batch_size=batch_size),\n",
    "    steps_per_epoch = len(x_train)//batch_size,\n",
    "    validation_data=(x_test, y_test),\n",
    "    validation_steps=len(x_test)//batch_size,\n",
    "    epochs=epochs\n",
    ")"
   ]
  },
  {
   "cell_type": "markdown",
   "metadata": {},
   "source": [
    "### Use the trained model to predict the testing dataset"
   ]
  },
  {
   "cell_type": "code",
   "execution_count": 17,
   "metadata": {},
   "outputs": [],
   "source": [
    "predIdxs = model.predict(x_test, batch_size=batch_size)\n",
    "\n",
    "# Since result is in probability, therefore we take the index of the max out of the 2\n",
    "predIdxs = np.argmax(predIdxs, axis=1)"
   ]
  },
  {
   "cell_type": "markdown",
   "metadata": {},
   "source": [
    "### Print the classification report"
   ]
  },
  {
   "cell_type": "code",
   "execution_count": 18,
   "metadata": {},
   "outputs": [
    {
     "name": "stdout",
     "output_type": "stream",
     "text": [
      "              precision    recall  f1-score   support\n",
      "\n",
      "           0       0.99      1.00      0.99       745\n",
      "           1       1.00      0.99      0.99       766\n",
      "\n",
      "    accuracy                           0.99      1511\n",
      "   macro avg       0.99      0.99      0.99      1511\n",
      "weighted avg       0.99      0.99      0.99      1511\n",
      "\n"
     ]
    }
   ],
   "source": [
    "print(classification_report(np.argmax(y_test, axis=1), predIdxs))"
   ]
  },
  {
   "cell_type": "markdown",
   "metadata": {},
   "source": [
    "### Save model"
   ]
  },
  {
   "cell_type": "code",
   "execution_count": 19,
   "metadata": {},
   "outputs": [],
   "source": [
    "model.save('mask_detector', save_format=\"h5\")"
   ]
  },
  {
   "cell_type": "markdown",
   "metadata": {},
   "source": [
    "### Visualize training loss and accuracy"
   ]
  },
  {
   "cell_type": "code",
   "execution_count": 21,
   "metadata": {},
   "outputs": [
    {
     "data": {
      "text/plain": [
       "<Figure size 1584x1152 with 0 Axes>"
      ]
     },
     "metadata": {},
     "output_type": "display_data"
    },
    {
     "data": {
      "image/png": "[encoded data removed]",
      "text/plain": [
       "<Figure size 432x288 with 1 Axes>"
      ]
     },
     "metadata": {},
     "output_type": "display_data"
    }
   ],
   "source": [
    "N = epochs\n",
    "plt.figure(figsize=(22,16))\n",
    "plt.style.use(\"ggplot\")\n",
    "plt.figure()\n",
    "plt.plot(np.arange(0, N), H.history[\"loss\"], label=\"train_loss\")\n",
    "plt.plot(np.arange(0, N), H.history[\"val_loss\"], label=\"val_loss\")\n",
    "plt.plot(np.arange(0, N), H.history[\"accuracy\"], label=\"train_acc\")\n",
    "plt.plot(np.arange(0, N), H.history[\"val_accuracy\"], label=\"val_acc\")\n",
    "plt.title(\"Training Loss and Accuracy\")\n",
    "plt.xlabel(\"Epoch #\")\n",
    "plt.ylabel(\"Loss/Accuracy\")\n",
    "plt.legend(loc=\"lower left\")\n",
    "\n",
    "plt.show()"
   ]
  },
  {
   "cell_type": "markdown",
   "metadata": {},
   "source": [
    "### Load the trained model"
   ]
  },
  {
   "cell_type": "code",
   "execution_count": 22,
   "metadata": {},
   "outputs": [],
   "source": [
    "model = load_model(\"mask_detector\")"
   ]
  },
  {
   "cell_type": "markdown",
   "metadata": {},
   "source": [
    "### Get time needed to predict 1 image in microseconds"
   ]
  },
  {
   "cell_type": "code",
   "execution_count": 23,
   "metadata": {},
   "outputs": [
    {
     "name": "stdout",
     "output_type": "stream",
     "text": [
      "674643\n"
     ]
    }
   ],
   "source": [
    "import time\n",
    "import datetime\n",
    "\n",
    "t0 = datetime.datetime.now()\n",
    "predIdxs = model.predict(np.array([x_test[-1]], dtype=\"float32\"), batch_size = 32)\n",
    "\n",
    "print((datetime.datetime.now() - t0).microseconds)"
   ]
  },
  {
   "cell_type": "code",
   "execution_count": null,
   "metadata": {},
   "outputs": [],
   "source": []
  }
 ],
 "metadata": {
  "kernelspec": {
   "display_name": "Python 3",
   "language": "python",
   "name": "python3"
  },
  "language_info": {
   "codemirror_mode": {
    "name": "ipython",
    "version": 3
   },
   "file_extension": ".py",
   "mimetype": "text/x-python",
   "name": "python",
   "nbconvert_exporter": "python",
   "pygments_lexer": "ipython3",
   "version": "3.6.10"
  }
 },
 "nbformat": 4,
 "nbformat_minor": 4
}
